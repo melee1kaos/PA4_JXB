{
 "cells": [
  {
   "cell_type": "markdown",
   "id": "b99e8309",
   "metadata": {},
   "source": [
    "# Programming Assignment 4\n",
    "# by Jesse Bicknell\n",
    "# version 3.11.5\n",
    "# CS150 Fall2023"
   ]
  },
  {
   "cell_type": "markdown",
   "id": "5cbf8572",
   "metadata": {},
   "source": [
    "## Task 1: Grade Calculator"
   ]
  },
  {
   "cell_type": "markdown",
   "id": "f3b4dde5",
   "metadata": {},
   "source": [
    "### A. Create list"
   ]
  },
  {
   "cell_type": "code",
   "execution_count": 55,
   "id": "985d2425",
   "metadata": {},
   "outputs": [],
   "source": [
    "Grades=[75,82,93,97,87]"
   ]
  },
  {
   "cell_type": "markdown",
   "id": "a9020d1a",
   "metadata": {},
   "source": [
    "### B. Calculate the average"
   ]
  },
  {
   "cell_type": "code",
   "execution_count": 5,
   "id": "25146d49",
   "metadata": {},
   "outputs": [
    {
     "name": "stdout",
     "output_type": "stream",
     "text": [
      "86\n"
     ]
    }
   ],
   "source": [
    "average=(sum(Grades))//len(Grades)\n",
    "print(average)"
   ]
  },
  {
   "cell_type": "markdown",
   "id": "0356ff5c",
   "metadata": {},
   "source": [
    "### C. Determine/print average grade and letter grade"
   ]
  },
  {
   "cell_type": "code",
   "execution_count": 17,
   "id": "8806a64f",
   "metadata": {},
   "outputs": [
    {
     "name": "stdout",
     "output_type": "stream",
     "text": [
      "Enter average grade: 86\n",
      "The average grade is 86\n",
      "The letter grade is B\n"
     ]
    }
   ],
   "source": [
    "Grade=int(input(\"Enter average grade: \"))\n",
    "print(\"The average grade is\",Grade)\n",
    "if (Grade>=90):\n",
    "   print(\"The letter grade is A\")\n",
    "elif(Grade>=80):\n",
    "    print(\"The letter grade is B\")\n",
    "elif(Grade>=70):\n",
    "    print(\"The letter grade is C\")\n",
    "elif(Grade>=60):\n",
    "    print(\"The letter grade is D\")\n",
    "else:\n",
    "    print(\"The letter grade is F\")"
   ]
  },
  {
   "cell_type": "markdown",
   "id": "e2fa3bca",
   "metadata": {},
   "source": [
    "## Task 2: Tuple Unpacking"
   ]
  },
  {
   "cell_type": "markdown",
   "id": "b07748f9",
   "metadata": {},
   "source": [
    "### A. Create a tuple"
   ]
  },
  {
   "cell_type": "code",
   "execution_count": 19,
   "id": "785b3ab6",
   "metadata": {},
   "outputs": [],
   "source": [
    "student=(\"Jesse\",\"Bicknell\",31,\"math\")"
   ]
  },
  {
   "cell_type": "markdown",
   "id": "9c36f27b",
   "metadata": {},
   "source": [
    "### B. and C. Unpack and check if older than 18"
   ]
  },
  {
   "cell_type": "code",
   "execution_count": 20,
   "id": "9d090c9e",
   "metadata": {},
   "outputs": [],
   "source": [
    "first_name,last_name,age,subject=student\n"
   ]
  },
  {
   "cell_type": "code",
   "execution_count": 22,
   "id": "edf80377",
   "metadata": {},
   "outputs": [
    {
     "name": "stdout",
     "output_type": "stream",
     "text": [
      "Student is an adult\n"
     ]
    }
   ],
   "source": [
    "if (age>18):\n",
    "    print(\"Student is an adult\")\n",
    "else:\n",
    "    print(\"Student is a minor\")"
   ]
  },
  {
   "cell_type": "markdown",
   "id": "85af83df",
   "metadata": {},
   "source": [
    "## Task 3: Month and Date"
   ]
  },
  {
   "cell_type": "code",
   "execution_count": 29,
   "id": "5879c48c",
   "metadata": {},
   "outputs": [
    {
     "name": "stdout",
     "output_type": "stream",
     "text": [
      "Enter a number from 1 to 12: 5\n",
      "May has 31 days\n"
     ]
    }
   ],
   "source": [
    "month=int(input(\"Enter a number from 1 to 12: \"))\n",
    "if month==1:\n",
    "    print(\"January has 31 days\")\n",
    "elif month==2:\n",
    "    print(\"February has 28 days\")\n",
    "elif month==3:\n",
    "    print(\"March has 31 days\")\n",
    "elif month==4:\n",
    "    print(\"April has 30 days\")\n",
    "elif month==5:\n",
    "    print(\"May has 31 days\")\n",
    "elif month==6:\n",
    "    print(\"June has 30 days\")\n",
    "elif month==7:\n",
    "    print(\"July has 31 days\")\n",
    "elif month==8:\n",
    "    print(\"August has 31 days\")\n",
    "elif month==9:\n",
    "    print(\"September has 30 days\")\n",
    "elif month==10:\n",
    "    print(\"October has 31 days\")\n",
    "elif month==11:\n",
    "    print(\"Novemebr has 30 days\")\n",
    "elif month==12:\n",
    "    print(\"December has 31 days\")\n",
    "else:\n",
    "    print(\"Not a valid selection\")"
   ]
  },
  {
   "cell_type": "markdown",
   "id": "9d5c4151",
   "metadata": {},
   "source": [
    "## Task 4: Triangle"
   ]
  },
  {
   "cell_type": "code",
   "execution_count": 36,
   "id": "4ada162b",
   "metadata": {},
   "outputs": [
    {
     "name": "stdout",
     "output_type": "stream",
     "text": [
      "Enter the length of the first side: 1\n",
      "Enter the length of the second side: 2\n",
      "Enter the length of the first side: 1\n",
      "The triangle is isosceles\n"
     ]
    }
   ],
   "source": [
    "Side_1=int(input(\"Enter the length of the first side: \"))\n",
    "Side_2=int(input(\"Enter the length of the second side: \"))\n",
    "Side_3=int(input(\"Enter the length of the first side: \"))\n",
    "if Side_1==Side_2 and Side_2==Side_3 and Side_3==Side_1:\n",
    "    print(\"The triangle is equilateral\")\n",
    "if Side_1==Side_2 or Side_2==Side_3 or Side_3==Side_1:\n",
    "    print(\"The triangle is isosceles\")\n",
    "else:\n",
    "    print(\"The triangle is scalene\")"
   ]
  },
  {
   "cell_type": "markdown",
   "id": "1829ff11",
   "metadata": {},
   "source": [
    "## Task 5: List Comprehension and Filtering"
   ]
  },
  {
   "cell_type": "markdown",
   "id": "44c25fad",
   "metadata": {},
   "source": [
    "### A. Create a list "
   ]
  },
  {
   "cell_type": "code",
   "execution_count": 44,
   "id": "0c8b90c9",
   "metadata": {},
   "outputs": [
    {
     "name": "stdout",
     "output_type": "stream",
     "text": [
      "[21, 22, 23, 24, 25, 26, 27, 28, 29, 30, 31, 32, 33, 34, 35, 36, 37, 38, 39]\n"
     ]
    }
   ],
   "source": [
    "numbers=list(range(21,40))\n",
    "print(numbers)\n"
   ]
  },
  {
   "cell_type": "markdown",
   "id": "10d047b9",
   "metadata": {},
   "source": [
    "### B. Create new list of even squares"
   ]
  },
  {
   "cell_type": "code",
   "execution_count": 52,
   "id": "b4e58812",
   "metadata": {},
   "outputs": [
    {
     "name": "stdout",
     "output_type": "stream",
     "text": [
      "[484, 576, 676, 784, 900, 1024, 1156, 1296, 1444]\n"
     ]
    }
   ],
   "source": [
    "even_squares=[number**2 for number in numbers if number%2==0]\n",
    "print(even_squares)"
   ]
  },
  {
   "cell_type": "markdown",
   "id": "853f1c47",
   "metadata": {},
   "source": [
    "### C. Create a new list of odd cubes"
   ]
  },
  {
   "cell_type": "code",
   "execution_count": 54,
   "id": "85ec850d",
   "metadata": {},
   "outputs": [
    {
     "name": "stdout",
     "output_type": "stream",
     "text": [
      "[9261, 12167, 15625, 19683, 24389, 29791, 35937, 42875, 50653, 59319]\n"
     ]
    }
   ],
   "source": [
    "odd_cubes=[number**3 for number in numbers if number%2!=0]\n",
    "print(odd_cubes)"
   ]
  }
 ],
 "metadata": {
  "kernelspec": {
   "display_name": "Python 3 (ipykernel)",
   "language": "python",
   "name": "python3"
  },
  "language_info": {
   "codemirror_mode": {
    "name": "ipython",
    "version": 3
   },
   "file_extension": ".py",
   "mimetype": "text/x-python",
   "name": "python",
   "nbconvert_exporter": "python",
   "pygments_lexer": "ipython3",
   "version": "3.11.5"
  }
 },
 "nbformat": 4,
 "nbformat_minor": 5
}
